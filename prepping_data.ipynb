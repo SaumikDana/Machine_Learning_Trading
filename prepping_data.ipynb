{
 "cells": [
  {
   "cell_type": "code",
   "execution_count": 1,
   "id": "1f12cbdb",
   "metadata": {},
   "outputs": [],
   "source": [
    "import warnings\n",
    "warnings.filterwarnings('ignore')\n",
    "\n",
    "%matplotlib inline\n",
    "\n",
    "import numpy as np\n",
    "import pandas as pd\n",
    "\n",
    "import matplotlib.pyplot as plt\n",
    "import seaborn as sns\n",
    "\n",
    "from scipy.stats import pearsonr, spearmanr\n",
    "from talib import RSI, BBANDS, MACD, ATR\n",
    "\n",
    "MONTH = 21\n",
    "YEAR = 12 * MONTH\n",
    "\n",
    "START = '2013-01-01'\n",
    "END = '2017-12-31'\n",
    "\n",
    "sns.set_style('whitegrid')\n",
    "idx = pd.IndexSlice\n",
    "\n"
   ]
  },
  {
   "cell_type": "code",
   "execution_count": null,
   "id": "8ff991fc",
   "metadata": {},
   "outputs": [],
   "source": []
  },
  {
   "cell_type": "code",
   "execution_count": 2,
   "id": "0f7cd88f",
   "metadata": {},
   "outputs": [],
   "source": [
    "ohlcv = ['adj_open', 'adj_close', 'adj_low', 'adj_high', 'adj_volume']\n",
    "\n",
    "DATA_STORE = './data/assets.h5'\n",
    "\n",
    "with pd.HDFStore(DATA_STORE) as store:\n",
    "    prices = (store['quandl/wiki/prices']\n",
    "              .loc[idx[START:END, :], ohlcv]\n",
    "              .rename(columns=lambda x: x.replace('adj_', ''))\n",
    "              .assign(volume=lambda x: x.volume.div(1000))\n",
    "              .swaplevel()\n",
    "              .sort_index())\n",
    "\n",
    "    stocks = (store['us_equities/stocks']\n",
    "              .loc[:, ['marketcap', 'ipoyear', 'sector']])\n",
    "\n"
   ]
  },
  {
   "cell_type": "code",
   "execution_count": 3,
   "id": "24a152e7",
   "metadata": {},
   "outputs": [],
   "source": [
    "# want at least 2 years of data\n",
    "min_obs = 2 * YEAR\n",
    "\n",
    "# have this much per ticker \n",
    "nobs = prices.groupby(level='ticker').size()\n",
    "\n",
    "# keep those that exceed the limit\n",
    "keep = nobs[nobs > min_obs].index\n",
    "\n",
    "prices = prices.loc[idx[keep, :], :]"
   ]
  },
  {
   "cell_type": "code",
   "execution_count": 4,
   "id": "8e34415e",
   "metadata": {},
   "outputs": [
    {
     "name": "stdout",
     "output_type": "stream",
     "text": [
      "<class 'pandas.core.frame.DataFrame'>\n",
      "MultiIndex: 2904233 entries, ('A', Timestamp('2013-01-02 00:00:00')) to ('ZUMZ', Timestamp('2017-12-29 00:00:00'))\n",
      "Data columns (total 5 columns):\n",
      " #   Column  Non-Null Count    Dtype  \n",
      "---  ------  --------------    -----  \n",
      " 0   open    2904233 non-null  float64\n",
      " 1   close   2904233 non-null  float64\n",
      " 2   low     2904233 non-null  float64\n",
      " 3   high    2904233 non-null  float64\n",
      " 4   volume  2904233 non-null  float64\n",
      "dtypes: float64(5)\n",
      "memory usage: 122.6+ MB\n"
     ]
    }
   ],
   "source": [
    "stocks = stocks[~stocks.index.duplicated() & stocks.sector.notnull()]\n",
    "stocks.sector = stocks.sector.str.lower().str.replace(' ', '_')\n",
    "stocks.index.name = 'ticker'\n",
    "\n",
    "shared = (prices.index.get_level_values('ticker').unique()\n",
    "          .intersection(stocks.index))\n",
    "stocks = stocks.loc[shared, :]\n",
    "prices = prices.loc[idx[shared, :], :]\n",
    "\n",
    "prices.info(show_counts=True)\n",
    "\n"
   ]
  },
  {
   "cell_type": "code",
   "execution_count": 5,
   "id": "2dad15e6",
   "metadata": {},
   "outputs": [
    {
     "name": "stdout",
     "output_type": "stream",
     "text": [
      "<class 'pandas.core.frame.DataFrame'>\n",
      "Index: 2348 entries, A to ZUMZ\n",
      "Data columns (total 3 columns):\n",
      " #   Column     Non-Null Count  Dtype  \n",
      "---  ------     --------------  -----  \n",
      " 0   marketcap  2345 non-null   float64\n",
      " 1   ipoyear    1026 non-null   float64\n",
      " 2   sector     2348 non-null   object \n",
      "dtypes: float64(2), object(1)\n",
      "memory usage: 73.4+ KB\n"
     ]
    }
   ],
   "source": [
    "stocks.info(show_counts=True)\n",
    "\n"
   ]
  },
  {
   "cell_type": "code",
   "execution_count": 6,
   "id": "1d7991b1",
   "metadata": {},
   "outputs": [
    {
     "data": {
      "text/plain": [
       "sector\n",
       "consumer_services        440\n",
       "finance                  393\n",
       "technology               297\n",
       "health_care              297\n",
       "capital_goods            227\n",
       "basic_industries         138\n",
       "consumer_non-durables    126\n",
       "energy                   123\n",
       "public_utilities         105\n",
       "consumer_durables         78\n",
       "miscellaneous             69\n",
       "transportation            55\n",
       "Name: count, dtype: int64"
      ]
     },
     "execution_count": 6,
     "metadata": {},
     "output_type": "execute_result"
    }
   ],
   "source": [
    "stocks.sector.value_counts()"
   ]
  },
  {
   "cell_type": "code",
   "execution_count": 7,
   "id": "66d52613",
   "metadata": {},
   "outputs": [
    {
     "name": "stdout",
     "output_type": "stream",
     "text": [
      "<class 'pandas.core.frame.DataFrame'>\n",
      "MultiIndex: 2904233 entries, ('A', Timestamp('2013-01-02 00:00:00')) to ('ZUMZ', Timestamp('2017-12-29 00:00:00'))\n",
      "Data columns (total 7 columns):\n",
      " #   Column         Non-Null Count    Dtype  \n",
      "---  ------         --------------    -----  \n",
      " 0   open           2904233 non-null  float64\n",
      " 1   close          2904233 non-null  float64\n",
      " 2   low            2904233 non-null  float64\n",
      " 3   high           2904233 non-null  float64\n",
      " 4   volume         2904233 non-null  float64\n",
      " 5   dollar_vol     2904233 non-null  float64\n",
      " 6   dollar_vol_1m  0 non-null        float64\n",
      "dtypes: float64(7)\n",
      "memory usage: 166.9+ MB\n"
     ]
    }
   ],
   "source": [
    "\n",
    "\n",
    "# compute dollar volume to determine universe\n",
    "prices['dollar_vol'] = prices[['close', 'volume']].prod(axis=1)\n",
    "\n",
    "# Reset index to ensure compatibility\n",
    "prices_reset = prices.reset_index()\n",
    "\n",
    "# Compute the rolling mean\n",
    "rolling_means = (prices_reset.groupby('ticker')['dollar_vol']\n",
    "                 .rolling(window=21)\n",
    "                 .mean()\n",
    "                 .reset_index(drop=True))\n",
    "\n",
    "\n",
    "# Assign the result back to the original DataFrame\n",
    "prices['dollar_vol_1m'] = rolling_means\n",
    "\n",
    "prices.info(show_counts=True)"
   ]
  },
  {
   "cell_type": "code",
   "execution_count": 8,
   "id": "5731e8f4",
   "metadata": {},
   "outputs": [
    {
     "name": "stdout",
     "output_type": "stream",
     "text": [
      "<class 'pandas.core.frame.DataFrame'>\n",
      "MultiIndex: 2904233 entries, ('A', Timestamp('2013-01-02 00:00:00')) to ('ZUMZ', Timestamp('2017-12-29 00:00:00'))\n",
      "Data columns (total 8 columns):\n",
      " #   Column           Non-Null Count    Dtype  \n",
      "---  ------           --------------    -----  \n",
      " 0   open             2904233 non-null  float64\n",
      " 1   close            2904233 non-null  float64\n",
      " 2   low              2904233 non-null  float64\n",
      " 3   high             2904233 non-null  float64\n",
      " 4   volume           2904233 non-null  float64\n",
      " 5   dollar_vol       2904233 non-null  float64\n",
      " 6   dollar_vol_1m    0 non-null        float64\n",
      " 7   dollar_vol_rank  0 non-null        float64\n",
      "dtypes: float64(8)\n",
      "memory usage: 189.1+ MB\n"
     ]
    }
   ],
   "source": [
    "prices['dollar_vol_rank'] = (prices.groupby('date')\n",
    "                             .dollar_vol_1m\n",
    "                             .rank(ascending=False))\n",
    "\n",
    "prices.info(show_counts=True)\n",
    "\n"
   ]
  },
  {
   "cell_type": "code",
   "execution_count": 9,
   "id": "c4f32eeb",
   "metadata": {},
   "outputs": [
    {
     "data": {
      "image/png": "[encoded data removed]",
      "text/plain": [
       "<Figure size 640x480 with 1 Axes>"
      ]
     },
     "metadata": {},
     "output_type": "display_data"
    }
   ],
   "source": [
    "# Assuming the RSI function is defined correctly and can handle series input\n",
    "prices['rsi'] = prices.groupby(level='ticker')['close'].transform(RSI)\n",
    "\n",
    "# Plotting\n",
    "ax = sns.distplot(prices.rsi.dropna())\n",
    "ax.axvline(30, ls='--', lw=1, c='k')  # Lower RSI threshold\n",
    "ax.axvline(70, ls='--', lw=1, c='k')  # Upper RSI threshold\n",
    "ax.set_title('RSI Distribution with Signal Threshold')\n",
    "plt.tight_layout()\n",
    "\n",
    "\n"
   ]
  },
  {
   "cell_type": "code",
   "execution_count": 10,
   "id": "35500b38",
   "metadata": {},
   "outputs": [],
   "source": [
    "prices = prices.join(stocks[['sector']])"
   ]
  },
  {
   "cell_type": "code",
   "execution_count": 12,
   "id": "1f3f6c60",
   "metadata": {},
   "outputs": [
    {
     "name": "stdout",
     "output_type": "stream",
     "text": [
      "<class 'pandas.core.frame.DataFrame'>\n",
      "MultiIndex: 2904233 entries, ('A', Timestamp('2013-01-02 00:00:00')) to ('ZUMZ', Timestamp('2017-12-29 00:00:00'))\n",
      "Data columns (total 12 columns):\n",
      " #   Column           Dtype  \n",
      "---  ------           -----  \n",
      " 0   open             float64\n",
      " 1   close            float64\n",
      " 2   low              float64\n",
      " 3   high             float64\n",
      " 4   volume           float64\n",
      " 5   dollar_vol       float64\n",
      " 6   dollar_vol_1m    float64\n",
      " 7   dollar_vol_rank  float64\n",
      " 8   rsi              float64\n",
      " 9   sector           object \n",
      " 10  year             int32  \n",
      " 11  month            int32  \n",
      "dtypes: float64(9), int32(2), object(1)\n",
      "memory usage: 255.6+ MB\n"
     ]
    }
   ],
   "source": [
    "prices['year'] = prices.index.get_level_values('date').year\n",
    "prices['month'] = prices.index.get_level_values('date').month\n",
    "\n",
    "prices.info()\n",
    "\n"
   ]
  },
  {
   "cell_type": "code",
   "execution_count": 13,
   "id": "49117840",
   "metadata": {},
   "outputs": [
    {
     "name": "stdout",
     "output_type": "stream",
     "text": [
      "<class 'pandas.core.frame.DataFrame'>\n",
      "MultiIndex: 2904233 entries, ('A', Timestamp('2013-01-02 00:00:00')) to ('ZUMZ', Timestamp('2017-12-29 00:00:00'))\n",
      "Data columns (total 35 columns):\n",
      " #   Column                 Dtype  \n",
      "---  ------                 -----  \n",
      " 0   open                   float64\n",
      " 1   close                  float64\n",
      " 2   low                    float64\n",
      " 3   high                   float64\n",
      " 4   volume                 float64\n",
      " 5   dollar_vol             float64\n",
      " 6   dollar_vol_1m          float64\n",
      " 7   dollar_vol_rank        float64\n",
      " 8   rsi                    float64\n",
      " 9   year_2014              bool   \n",
      " 10  year_2015              bool   \n",
      " 11  year_2016              bool   \n",
      " 12  year_2017              bool   \n",
      " 13  month_2                bool   \n",
      " 14  month_3                bool   \n",
      " 15  month_4                bool   \n",
      " 16  month_5                bool   \n",
      " 17  month_6                bool   \n",
      " 18  month_7                bool   \n",
      " 19  month_8                bool   \n",
      " 20  month_9                bool   \n",
      " 21  month_10               bool   \n",
      " 22  month_11               bool   \n",
      " 23  month_12               bool   \n",
      " 24  capital_goods          bool   \n",
      " 25  consumer_durables      bool   \n",
      " 26  consumer_non-durables  bool   \n",
      " 27  consumer_services      bool   \n",
      " 28  energy                 bool   \n",
      " 29  finance                bool   \n",
      " 30  health_care            bool   \n",
      " 31  miscellaneous          bool   \n",
      " 32  public_utilities       bool   \n",
      " 33  technology             bool   \n",
      " 34  transportation         bool   \n",
      "dtypes: bool(26), float64(9)\n",
      "memory usage: 283.3+ MB\n"
     ]
    }
   ],
   "source": [
    "\n",
    "\n",
    "prices.assign(sector=pd.factorize(prices.sector, sort=True)[0]).to_hdf('data.h5', 'model_data/no_dummies')\n",
    "\n",
    "prices = pd.get_dummies(prices,\n",
    "                        columns=['year', 'month', 'sector'],\n",
    "                        prefix=['year', 'month', ''],\n",
    "                        prefix_sep=['_', '_', ''],\n",
    "                        drop_first=True)\n",
    "\n",
    "prices.info()\n",
    "\n"
   ]
  },
  {
   "cell_type": "code",
   "execution_count": 14,
   "id": "cd398d91",
   "metadata": {},
   "outputs": [],
   "source": []
  },
  {
   "cell_type": "code",
   "execution_count": 18,
   "id": "8a391ad9",
   "metadata": {},
   "outputs": [],
   "source": [
    "lags = [1, 5, 10, 21, 42, 63]\n",
    "\n",
    "returns = prices.groupby(level='ticker').close.pct_change()\n",
    "percentiles=[.0001, .001, .01]\n",
    "percentiles+= [1-p for p in percentiles]\n",
    "returns.describe(percentiles=percentiles).iloc[2:].to_frame('percentiles').style.format(lambda x: f'{x:,.2%}')\n",
    "\n",
    "q = 0.0001\n",
    "\n",
    "# Winsorize outliers\n",
    "\n",
    "for lag in lags:\n",
    "    prices[f'return_{lag}d'] = (prices.groupby(level='ticker').close\n",
    "                                .pct_change(lag)\n",
    "                                .pipe(lambda x: x.clip(lower=x.quantile(q),\n",
    "                                                       upper=x.quantile(1 - q)))\n",
    "                                .add(1)\n",
    "                                .pow(1 / lag)\n",
    "                                .sub(1)\n",
    "                                )\n",
    "\n",
    "# Shift lagged returns\n",
    "\n",
    "for t in [1, 2, 3, 4, 5]:\n",
    "    for lag in [1, 5, 10, 21]:\n",
    "        prices[f'return_{lag}d_lag{t}'] = (prices.groupby(level='ticker')\n",
    "                                           [f'return_{lag}d'].shift(t * lag))\n",
    "\n",
    "# Compute Forward Returns\n",
    "\n",
    "for t in [1, 5, 10, 21]:\n",
    "    prices[f'target_{t}d'] = prices.groupby(level='ticker')[f'return_{t}d'].shift(-t)\n",
    "\n",
    "prices.to_hdf('data.h5', 'model_data')\n",
    "\n",
    "target = 'target_5d'\n",
    "top100 = prices[prices.dollar_vol_rank<100].copy()\n",
    "\n"
   ]
  },
  {
   "cell_type": "code",
   "execution_count": 19,
   "id": "8b4ae145",
   "metadata": {},
   "outputs": [
    {
     "data": {
      "text/html": [
       "<div>\n",
       "<style scoped>\n",
       "    .dataframe tbody tr th:only-of-type {\n",
       "        vertical-align: middle;\n",
       "    }\n",
       "\n",
       "    .dataframe tbody tr th {\n",
       "        vertical-align: top;\n",
       "    }\n",
       "\n",
       "    .dataframe thead th {\n",
       "        text-align: right;\n",
       "    }\n",
       "</style>\n",
       "<table border=\"1\" class=\"dataframe\">\n",
       "  <thead>\n",
       "    <tr style=\"text-align: right;\">\n",
       "      <th></th>\n",
       "      <th>count</th>\n",
       "      <th>mean</th>\n",
       "      <th>std</th>\n",
       "      <th>min</th>\n",
       "      <th>25%</th>\n",
       "      <th>50%</th>\n",
       "      <th>75%</th>\n",
       "      <th>max</th>\n",
       "    </tr>\n",
       "  </thead>\n",
       "  <tbody>\n",
       "  </tbody>\n",
       "</table>\n",
       "</div>"
      ],
      "text/plain": [
       "Empty DataFrame\n",
       "Columns: [count, mean, std, min, 25%, 50%, 75%, max]\n",
       "Index: []"
      ]
     },
     "execution_count": 19,
     "metadata": {},
     "output_type": "execute_result"
    }
   ],
   "source": [
    "\n",
    "\n",
    "top100.loc[:, 'rsi_signal'] = pd.cut(top100.rsi, bins=[0, 30, 70, 100])\n",
    "\n",
    "top100.groupby('rsi_signal')['target_5d'].describe()\n",
    "\n"
   ]
  }
 ],
 "metadata": {
  "kernelspec": {
   "display_name": "Python 3 (ipykernel)",
   "language": "python",
   "name": "python3"
  },
  "language_info": {
   "codemirror_mode": {
    "name": "ipython",
    "version": 3
   },
   "file_extension": ".py",
   "mimetype": "text/x-python",
   "name": "python",
   "nbconvert_exporter": "python",
   "pygments_lexer": "ipython3",
   "version": "3.11.6"
  }
 },
 "nbformat": 4,
 "nbformat_minor": 5
}
