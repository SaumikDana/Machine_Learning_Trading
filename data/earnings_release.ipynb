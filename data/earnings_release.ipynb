{
 "cells": [
  {
   "cell_type": "code",
   "execution_count": 1,
   "id": "66c1c185",
   "metadata": {},
   "outputs": [
    {
     "name": "stdout",
     "output_type": "stream",
     "text": [
      "https://finance.yahoo.com/calendar/earnings/?day=2024-01-01\n",
      "===========================================\n",
      "Options data for SGH:\n",
      "Average IV for Calls: 0.3810893350205194\n",
      "Average IV for Puts: 0.5055443176676432\n",
      "Total Call Volume: 755.0\n",
      "Total Call open interest: 8588\n",
      "Total Call engagement: 9343.0\n",
      "Total Put Volume: 279.0\n",
      "Total Put open interest: 2543\n",
      "Total Put engagement: 2822.0\n",
      "Number of ITM Call Options: 17\n",
      "Number of ITM Put Options: 21\n",
      "===========================================\n",
      "Options data for SRAX:\n",
      "Average IV for Calls: 0.100001\n",
      "Average IV for Puts: 1.0000000000000003e-05\n",
      "Total Call Volume: 5.0\n",
      "Total Call open interest: 356\n",
      "Total Call engagement: 361.0\n",
      "Total Put Volume: 4\n",
      "Total Put open interest: 37\n",
      "Total Put engagement: 41\n",
      "Number of ITM Call Options: 0\n",
      "Number of ITM Put Options: 1\n"
     ]
    }
   ],
   "source": [
    "from datetime import datetime, timedelta\n",
    "from utils import *  \n",
    "\n",
    "# Call the function and store the result\n",
    "day = '2024-01-01'\n",
    "\n",
    "# Set the time frame\n",
    "release_date = datetime.strptime(day, '%Y-%m-%d')\n",
    "end_date = release_date + timedelta(days=2)\n",
    "start_date = release_date - timedelta(days=14)\n",
    "\n",
    "# First page\n",
    "url = 'https://finance.yahoo.com/calendar/earnings/?day=' + day\n",
    "print(url)\n",
    "\n",
    "ticker_data_list = process_earnings_table(extract_table(url))\n",
    "    \n",
    "# Second page\n",
    "url += '&offset=100&size=100'\n",
    "\n",
    "ticker_data_list = process_earnings_table(extract_table(url), ticker_data_list)\n",
    "\n",
    "# Pandas Dataframe\n",
    "ticker_data_sorted = convert_to_dataframe(ticker_data_list)\n",
    "\n",
    "filtered_tickers = []\n",
    "\n",
    "# Iterate through the sorted list of tickers\n",
    "for index, row in ticker_data_sorted.iterrows():\n",
    "    ticker = row['Symbol']\n",
    "    \n",
    "    if ticker in filtered_tickers:\n",
    "        continue\n",
    "\n",
    "    # Use the function from utils.py to analyze stock options\n",
    "    options_metrics = analyze_stock_options(ticker)\n",
    "\n",
    "    if options_metrics['total_itm_calls'] == 0 and options_metrics['total_itm_puts'] == 0:\n",
    "        continue\n",
    "\n",
    "    # Print \n",
    "    print_options_data(ticker, options_metrics)\n",
    "    \n",
    "    # Filtered tickers\n",
    "    filtered_tickers.append(ticker)\n"
   ]
  }
 ],
 "metadata": {
  "kernelspec": {
   "display_name": "Python 3 (ipykernel)",
   "language": "python",
   "name": "python3"
  },
  "language_info": {
   "codemirror_mode": {
    "name": "ipython",
    "version": 3
   },
   "file_extension": ".py",
   "mimetype": "text/x-python",
   "name": "python",
   "nbconvert_exporter": "python",
   "pygments_lexer": "ipython3",
   "version": "3.11.6"
  }
 },
 "nbformat": 4,
 "nbformat_minor": 5
}
