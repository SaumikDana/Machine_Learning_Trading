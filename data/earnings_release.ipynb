{
 "cells": [
  {
   "cell_type": "code",
   "execution_count": 2,
   "id": "66c1c185",
   "metadata": {},
   "outputs": [
    {
     "name": "stdout",
     "output_type": "stream",
     "text": [
      "https://finance.yahoo.com/calendar/earnings/?day=2023-12-28\n"
     ]
    },
    {
     "name": "stderr",
     "output_type": "stream",
     "text": [
      "/Users/saumikdana/Machine_Learning_Trading/data/scrape_url.py:28: FutureWarning: Passing literal html to 'read_html' is deprecated and will be removed in a future version. To read from a literal string, wrap it in a 'StringIO' object.\n",
      "  df = pd.read_html(str(table))[0]\n",
      "/Users/saumikdana/Machine_Learning_Trading/data/scrape_url.py:71: FutureWarning: The behavior of DataFrame concatenation with empty or all-NA entries is deprecated. In a future version, this will no longer exclude empty or all-NA columns when determining the result dtypes. To retain the old behavior, exclude the relevant entries before the concat operation.\n",
      "  ticker_data = pd.concat(ticker_data_list, ignore_index=True)\n"
     ]
    },
    {
     "name": "stdout",
     "output_type": "stream",
     "text": [
      "===========================================\n",
      "Options data for OMEX:\n",
      "Average IV for Calls: 1.6675969924316403\n",
      "Average IV for Puts: 1.6999944362386068\n",
      "Total Call Volume: 676\n",
      "Total Call open interest: 5622\n",
      "Total Call engagement: 6298\n",
      "Total Put Volume: 98.0\n",
      "Total Put open interest: 1737\n",
      "Total Put engagement: 1835.0\n",
      "Number of ITM Call Options: 10\n",
      "Number of ITM Put Options: 1\n",
      "===========================================\n",
      "Options data for LILM:\n",
      "Average IV for Calls: 1.7971221997750948\n",
      "Average IV for Puts: 2.213900289950284\n",
      "Total Call Volume: 498.0\n",
      "Total Call open interest: 43263\n",
      "Total Call engagement: 43761.0\n",
      "Total Put Volume: 620.0\n",
      "Total Put open interest: 4703\n",
      "Total Put engagement: 5323.0\n",
      "Number of ITM Call Options: 5\n",
      "Number of ITM Put Options: 16\n",
      "===========================================\n",
      "Options data for ARVL:\n",
      "Average IV for Calls: 1.906865809830729\n",
      "Average IV for Puts: 2.4918372261439727\n",
      "Total Call Volume: 1297.0\n",
      "Total Call open interest: 31430\n",
      "Total Call engagement: 32727.0\n",
      "Total Put Volume: 1389.0\n",
      "Total Put open interest: 10929\n",
      "Total Put engagement: 12318.0\n",
      "Number of ITM Call Options: 4\n",
      "Number of ITM Put Options: 19\n",
      "===========================================\n",
      "Options data for UXIN:\n",
      "Average IV for Calls: 2.147324454171317\n",
      "Average IV for Puts: 2.4552980056423612\n",
      "Total Call Volume: 299.0\n",
      "Total Call open interest: 1951\n",
      "Total Call engagement: 2250.0\n",
      "Total Put Volume: 478.0\n",
      "Total Put open interest: 172\n",
      "Total Put engagement: 650.0\n",
      "Number of ITM Call Options: 0\n",
      "Number of ITM Put Options: 7\n"
     ]
    }
   ],
   "source": [
    "from datetime import datetime, timedelta\n",
    "from analyze_stock import *  \n",
    "from scrape_url import *\n",
    "\n",
    "# Call the function and store the result\n",
    "day = '2023-12-28'\n",
    "\n",
    "# Set the time frame\n",
    "date = datetime.strptime(day, '%Y-%m-%d')\n",
    "end_date = date + timedelta(days=7)\n",
    "start_date = date - timedelta(days=14)\n",
    "\n",
    "# Check if start_date is earlier than today, if not change start_date to today - 7 days\n",
    "current_date = datetime.now()\n",
    "start_date = current_date - timedelta(days=14) if start_date >= current_date else start_date\n",
    "\n",
    "# First page\n",
    "url = 'https://finance.yahoo.com/calendar/earnings/?day=' + day\n",
    "print(url)\n",
    "\n",
    "ticker_data_list = process_earnings_table(extract_table(url))\n",
    "    \n",
    "# Second page\n",
    "url += '&offset=100&size=100'\n",
    "\n",
    "ticker_data_list = process_earnings_table(extract_table(url), ticker_data_list)\n",
    "\n",
    "# Pandas Dataframe\n",
    "ticker_data_sorted = convert_to_dataframe(ticker_data_list)\n",
    "\n",
    "filtered_tickers = []\n",
    "\n",
    "# Iterate through the sorted list of tickers\n",
    "for index, row in ticker_data_sorted.iterrows():\n",
    "    ticker = row['Symbol']\n",
    "    \n",
    "    if ticker in filtered_tickers:\n",
    "        continue\n",
    "\n",
    "    # Use the function from utils.py to analyze stock options\n",
    "    options_metrics = analyze_stock_options(ticker)\n",
    "\n",
    "    if pd.isna(options_metrics['avg_put_implied_volatility']):\n",
    "        continue\n",
    "    \n",
    "    if options_metrics['total_itm_calls'] == 0 and options_metrics['total_itm_puts'] == 0:\n",
    "        continue\n",
    "\n",
    "    # Print \n",
    "    print_options_data(ticker, options_metrics)\n",
    "    \n",
    "    # Filtered tickers\n",
    "    filtered_tickers.append(ticker)\n",
    "    \n",
    "del filtered_tickers, ticker_data_list, ticker_data_sorted"
   ]
  },
  {
   "cell_type": "code",
   "execution_count": null,
   "id": "0fafac16",
   "metadata": {},
   "outputs": [],
   "source": []
  }
 ],
 "metadata": {
  "kernelspec": {
   "display_name": "Python 3 (ipykernel)",
   "language": "python",
   "name": "python3"
  },
  "language_info": {
   "codemirror_mode": {
    "name": "ipython",
    "version": 3
   },
   "file_extension": ".py",
   "mimetype": "text/x-python",
   "name": "python",
   "nbconvert_exporter": "python",
   "pygments_lexer": "ipython3",
   "version": "3.11.6"
  }
 },
 "nbformat": 4,
 "nbformat_minor": 5
}
