{
 "cells": [
  {
   "cell_type": "code",
   "execution_count": 1,
   "metadata": {},
   "outputs": [
    {
     "name": "stdout",
     "output_type": "stream",
     "text": [
      "              Open    High     Low    Last  Change  Settle    Volume  \\\n",
      "Date                                                                   \n",
      "2021-06-23  1780.7  1793.2  1780.6  1772.0     6.0  1782.3     136.0   \n",
      "2021-06-24  1778.9  1786.4  1775.8  1772.4    -6.7  1775.6      78.0   \n",
      "2021-06-25  1777.7  1788.0  1775.2  1786.9     1.0  1776.6      35.0   \n",
      "2021-06-28     NaN     NaN     NaN  1784.7     3.0  1779.6      61.0   \n",
      "2021-06-29  1778.8  1779.2  1750.1  1761.6   -17.1  1763.6  234242.0   \n",
      "\n",
      "            Previous Day Open Interest  \n",
      "Date                                    \n",
      "2021-06-23                       397.0  \n",
      "2021-06-24                       110.0  \n",
      "2021-06-25                       146.0  \n",
      "2021-06-28                        34.0  \n",
      "2021-06-29                    347497.0  \n"
     ]
    }
   ],
   "source": [
    "import quandl\n",
    "\n",
    "# Set your Quandl API key\n",
    "quandl.ApiConfig.api_key = 'mPaedGte4whmvch-741J'\n",
    "\n",
    "# Define the Quandl code for the futures dataset you're interested in\n",
    "# For example, 'CHRIS/CME_GC1' is the code for Gold Futures, Continuous Contract #1\n",
    "# You can find these codes on the Quandl website by searching for the futures contract you're interested in\n",
    "futures_code = 'CHRIS/CME_GC1'\n",
    "\n",
    "# Fetch the data\n",
    "data = quandl.get(futures_code)\n",
    "\n",
    "# Print the last few rows of the data\n",
    "print(data.tail())\n"
   ]
  }
 ],
 "metadata": {
  "kernelspec": {
   "display_name": "base",
   "language": "python",
   "name": "python3"
  },
  "language_info": {
   "codemirror_mode": {
    "name": "ipython",
    "version": 3
   },
   "file_extension": ".py",
   "mimetype": "text/x-python",
   "name": "python",
   "nbconvert_exporter": "python",
   "pygments_lexer": "ipython3",
   "version": "3.11.6"
  }
 },
 "nbformat": 4,
 "nbformat_minor": 2
}
