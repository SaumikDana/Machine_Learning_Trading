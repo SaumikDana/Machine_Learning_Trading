{
 "cells": [
  {
   "cell_type": "code",
   "execution_count": 37,
   "metadata": {},
   "outputs": [
    {
     "ename": "ImportError",
     "evalue": "cannot import name 'get_options_data' from 'utils' (/Users/saumikdana/Machine_Learning_Trading/data/utils.py)",
     "output_type": "error",
     "traceback": [
      "\u001b[0;31m---------------------------------------------------------------------------\u001b[0m",
      "\u001b[0;31mImportError\u001b[0m                               Traceback (most recent call last)",
      "\u001b[1;32m/Users/saumikdana/Machine_Learning_Trading/data/specific_stock_options_analysis.ipynb Cell 1\u001b[0m line \u001b[0;36m3\n\u001b[1;32m      <a href='vscode-notebook-cell:/Users/saumikdana/Machine_Learning_Trading/data/specific_stock_options_analysis.ipynb#W1sZmlsZQ%3D%3D?line=0'>1</a>\u001b[0m \u001b[39mfrom\u001b[39;00m \u001b[39mdatetime\u001b[39;00m \u001b[39mimport\u001b[39;00m datetime, timedelta\n\u001b[1;32m      <a href='vscode-notebook-cell:/Users/saumikdana/Machine_Learning_Trading/data/specific_stock_options_analysis.ipynb#W1sZmlsZQ%3D%3D?line=1'>2</a>\u001b[0m \u001b[39mfrom\u001b[39;00m \u001b[39mutils\u001b[39;00m \u001b[39mimport\u001b[39;00m analyze_stock_options, print_options_data, plot_stock_history\n\u001b[0;32m----> <a href='vscode-notebook-cell:/Users/saumikdana/Machine_Learning_Trading/data/specific_stock_options_analysis.ipynb#W1sZmlsZQ%3D%3D?line=2'>3</a>\u001b[0m \u001b[39mfrom\u001b[39;00m \u001b[39mutils\u001b[39;00m \u001b[39mimport\u001b[39;00m get_options_data \n\u001b[1;32m      <a href='vscode-notebook-cell:/Users/saumikdana/Machine_Learning_Trading/data/specific_stock_options_analysis.ipynb#W1sZmlsZQ%3D%3D?line=3'>4</a>\u001b[0m \u001b[39mimport\u001b[39;00m \u001b[39myfinance\u001b[39;00m \u001b[39mas\u001b[39;00m \u001b[39myf\u001b[39;00m\n\u001b[1;32m      <a href='vscode-notebook-cell:/Users/saumikdana/Machine_Learning_Trading/data/specific_stock_options_analysis.ipynb#W1sZmlsZQ%3D%3D?line=5'>6</a>\u001b[0m \u001b[39m# Reload the module\u001b[39;00m\n",
      "\u001b[0;31mImportError\u001b[0m: cannot import name 'get_options_data' from 'utils' (/Users/saumikdana/Machine_Learning_Trading/data/utils.py)"
     ]
    }
   ],
   "source": [
    "from datetime import datetime, timedelta\n",
    "from utils import analyze_stock_options, print_options_data, plot_stock_history\n",
    "from utils import get_options_data \n",
    "import yfinance as yf\n",
    "\n",
    "# Reload the module\n",
    "import importlib\n",
    "import utils\n",
    "importlib.reload(utils)\n",
    "\n",
    "# Set the time frame for the past week\n",
    "end_date = datetime.now()\n",
    "start_date = end_date - timedelta(days=14)\n",
    "\n",
    "ticker = 'ssys'\n",
    "\n",
    "# Use the function from utils.py to analyze stock options\n",
    "options_metrics = analyze_stock_options(ticker)\n",
    "\n",
    "# Print \n",
    "print_options_data(ticker, options_metrics, -1)\n",
    "\n",
    "# Call the plot_stock_history method\n",
    "plot_stock_history(ticker, start_date, end_date)\n",
    "\n",
    "# Print out as much Info as possible\n",
    "get_options_data(ticker)\n"
   ]
  }
 ],
 "metadata": {
  "kernelspec": {
   "display_name": "base",
   "language": "python",
   "name": "python3"
  },
  "language_info": {
   "codemirror_mode": {
    "name": "ipython",
    "version": 3
   },
   "file_extension": ".py",
   "mimetype": "text/x-python",
   "name": "python",
   "nbconvert_exporter": "python",
   "pygments_lexer": "ipython3",
   "version": "3.11.6"
  }
 },
 "nbformat": 4,
 "nbformat_minor": 2
}
