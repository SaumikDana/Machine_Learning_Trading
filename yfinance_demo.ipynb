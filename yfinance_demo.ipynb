{
 "cells": [
  {
   "cell_type": "code",
   "execution_count": 6,
   "id": "3178402c",
   "metadata": {},
   "outputs": [
    {
     "name": "stdout",
     "output_type": "stream",
     "text": [
      "<class 'pandas.core.frame.DataFrame'>\n",
      "DatetimeIndex: 1947 entries, 2023-11-27 09:30:00-05:00 to 2023-12-01 15:59:00-05:00\n",
      "Data columns (total 7 columns):\n",
      " #   Column        Non-Null Count  Dtype  \n",
      "---  ------        --------------  -----  \n",
      " 0   Open          1947 non-null   float64\n",
      " 1   High          1947 non-null   float64\n",
      " 2   Low           1947 non-null   float64\n",
      " 3   Close         1947 non-null   float64\n",
      " 4   Volume        1947 non-null   int64  \n",
      " 5   Dividends     1947 non-null   float64\n",
      " 6   Stock Splits  1947 non-null   float64\n",
      "dtypes: float64(6), int64(1)\n",
      "memory usage: 121.7 KB\n"
     ]
    }
   ],
   "source": [
    "# Downloading Market and Fundamental Data with yfinance\n",
    "# Imports & Settings\n",
    "\n",
    "import warnings\n",
    "warnings.filterwarnings('ignore')\n",
    "\n",
    "import pandas as pd\n",
    "import yfinance as yf\n",
    "\n",
    "# How to work with a Ticker object\n",
    "\n",
    "symbol = 'META'\n",
    "ticker = yf.Ticker(symbol)\n",
    "\n",
    "\n",
    "# Show ticker info\n",
    "\n",
    "pd.Series(ticker.info).head(20)\n",
    "\n",
    "\n",
    "# Get market data\n",
    "\n",
    "data = ticker.history(period='5d',\n",
    "                      interval='1m',\n",
    "                      start=None,\n",
    "                      end=None,\n",
    "                      actions=True,\n",
    "                      auto_adjust=True,\n",
    "                      back_adjust=False)\n",
    "data.info()\n",
    "\n",
    "\n"
   ]
  }
 ],
 "metadata": {
  "kernelspec": {
   "display_name": "Python 3 (ipykernel)",
   "language": "python",
   "name": "python3"
  },
  "language_info": {
   "codemirror_mode": {
    "name": "ipython",
    "version": 3
   },
   "file_extension": ".py",
   "mimetype": "text/x-python",
   "name": "python",
   "nbconvert_exporter": "python",
   "pygments_lexer": "ipython3",
   "version": "3.11.6"
  }
 },
 "nbformat": 4,
 "nbformat_minor": 5
}
